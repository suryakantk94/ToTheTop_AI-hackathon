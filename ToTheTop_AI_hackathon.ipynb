{
  "nbformat": 4,
  "nbformat_minor": 0,
  "metadata": {
    "colab": {
      "name": "ToTheTop_AI hackathon.ipynb",
      "provenance": [],
      "collapsed_sections": [],
      "include_colab_link": true
    },
    "kernelspec": {
      "name": "python3",
      "display_name": "Python 3"
    },
    "language_info": {
      "name": "python"
    },
    "accelerator": "GPU"
  },
  "cells": [
    {
      "cell_type": "markdown",
      "metadata": {
        "id": "view-in-github",
        "colab_type": "text"
      },
      "source": [
        "<a href=\"https://colab.research.google.com/github/suryakantk94/ToTheTop_AI-hackathon/blob/main/ToTheTop_AI_hackathon.ipynb\" target=\"_parent\"><img src=\"https://colab.research.google.com/assets/colab-badge.svg\" alt=\"Open In Colab\"/></a>"
      ]
    },
    {
      "cell_type": "code",
      "metadata": {
        "id": "nQZTpf2p7C0z"
      },
      "source": [
        "# Convolutional Neural Network\n",
        "\n",
        "# Importing the libraries\n",
        "import os\n",
        "import glob\n",
        "import matplotlib.pyplot as plt\n",
        "\n",
        "import numpy as np\n",
        "import tensorflow as tf\n",
        "import pandas as pd\n",
        "import keras\n",
        "from pandas import read_csv\n",
        "from matplotlib import pyplot\n",
        "from keras.models import Sequential\n",
        "from keras.layers import Dense, Flatten, Dropout\n",
        "from tensorflow.keras.utils import to_categorical\n",
        "from keras.utils import np_utils\n",
        "from keras.layers import Conv2D,MaxPooling2D,Activation,AveragePooling2D,BatchNormalization"
      ],
      "execution_count": 1,
      "outputs": []
    },
    {
      "cell_type": "code",
      "metadata": {
        "id": "zbuxiEbsQVwy"
      },
      "source": [
        "train = \"/content/drive/MyDrive/trainzip/training\"\n",
        "test = \"/content/drive/MyDrive/testzip\""
      ],
      "execution_count": 2,
      "outputs": []
    },
    {
      "cell_type": "code",
      "metadata": {
        "id": "OfStwsIhbM1e",
        "colab": {
          "base_uri": "https://localhost:8080/"
        },
        "outputId": "2a798fc9-bd76-45ce-8618-358e90519458"
      },
      "source": [
        "from google.colab import drive\n",
        "drive.mount('/content/drive')"
      ],
      "execution_count": 3,
      "outputs": [
        {
          "output_type": "stream",
          "name": "stdout",
          "text": [
            "Mounted at /content/drive\n"
          ]
        }
      ]
    },
    {
      "cell_type": "code",
      "metadata": {
        "id": "0mIiowosWKmd"
      },
      "source": [
        "# function to get count of images\n",
        "def get_files(directory):\n",
        "  if not os.path.exists(directory):\n",
        "    return 0\n",
        "  count=0\n",
        "  for current_path,dirs,files in os.walk(directory):\n",
        "    for dr in dirs:\n",
        "      count+= len(glob.glob(os.path.join(current_path,dr+\"/*\")))\n",
        "  return count "
      ],
      "execution_count": 4,
      "outputs": []
    },
    {
      "cell_type": "code",
      "metadata": {
        "id": "4G_jt2wC_ws9",
        "colab": {
          "base_uri": "https://localhost:8080/"
        },
        "outputId": "14491060-3462-4cc1-9ad4-d848ea9e9ae6"
      },
      "source": [
        "train_samples =get_files(train)\n",
        "num_classes=len(glob.glob(train+\"/*\"))\n",
        "test_samples=get_files(test) # For testing i took only few samples from unseen data. we can evaluate using validation data which is part of train data.\n",
        "print(num_classes,\"Classes\")\n",
        "print(train_samples,\"Train images\")\n",
        "print(test_samples,\"Test images\")"
      ],
      "execution_count": 5,
      "outputs": [
        {
          "output_type": "stream",
          "name": "stdout",
          "text": [
            "2 Classes\n",
            "5875 Train images\n",
            "98 Test images\n"
          ]
        }
      ]
    },
    {
      "cell_type": "code",
      "metadata": {
        "id": "J28NWtt8AWsC"
      },
      "source": [
        "# Use the Image Data Generator to import the images from the dataset\n",
        "from tensorflow.keras.preprocessing.image import ImageDataGenerator\n",
        "\n",
        "train_datagen = ImageDataGenerator(rescale = 1./255,\n",
        "                                   shear_range = 0.2,\n",
        "                                   zoom_range = 0.2,\n",
        "                                   horizontal_flip = True)\n",
        "\n",
        "test_datagen = ImageDataGenerator(rescale = 1./255)"
      ],
      "execution_count": 6,
      "outputs": []
    },
    {
      "cell_type": "code",
      "metadata": {
        "id": "XOG9Fn0eDrMI",
        "colab": {
          "base_uri": "https://localhost:8080/"
        },
        "outputId": "0b9ea22d-e33b-4ad5-a185-678981a212d1"
      },
      "source": [
        "# Make sure you provide the same target size as initialied for the image size\n",
        "training_set = train_datagen.flow_from_directory('/content/drive/MyDrive/trainzip/training',\n",
        "                                                 target_size = (256, 256),\n",
        "                                                 batch_size = 32,\n",
        "                                                 class_mode = 'categorical')\n",
        "test_set = test_datagen.flow_from_directory(test,\n",
        "                                                 target_size = (256, 256),\n",
        "                                                 batch_size = 32,\n",
        "                                                 class_mode = 'categorical')\n",
        "\n"
      ],
      "execution_count": 7,
      "outputs": [
        {
          "output_type": "stream",
          "name": "stdout",
          "text": [
            "Found 5875 images belonging to 2 classes.\n",
            "Found 98 images belonging to 1 classes.\n"
          ]
        }
      ]
    },
    {
      "cell_type": "code",
      "metadata": {
        "id": "a3BQ0l-cXTqt",
        "colab": {
          "base_uri": "https://localhost:8080/"
        },
        "outputId": "90bf13c5-8cd5-4750-c38e-3dacfc473a1b"
      },
      "source": [
        "# CNN building.\n",
        "input_shape=(256,256,3)\n",
        "\n",
        "model = Sequential()\n",
        "model.add(Conv2D(32, (5, 5), input_shape=input_shape, activation='relu'))\n",
        "model.add(MaxPooling2D(pool_size=(3, 3)))\n",
        "model.add(Conv2D(32, (3, 3),activation='relu'))\n",
        "model.add(MaxPooling2D(pool_size=(2, 2)))\n",
        "model.add(Conv2D(64, (3, 3),activation='relu'))\n",
        "model.add(MaxPooling2D(pool_size=(2, 2)))   \n",
        "model.add(Flatten())\n",
        "model.add(Dense(512,activation='relu'))\n",
        "model.add(Dropout(0.25))\n",
        "model.add(Dense(128,activation='relu'))          \n",
        "model.add(Dense(num_classes,activation='softmax'))\n",
        "model.summary()"
      ],
      "execution_count": 8,
      "outputs": [
        {
          "output_type": "stream",
          "name": "stdout",
          "text": [
            "Model: \"sequential\"\n",
            "_________________________________________________________________\n",
            "Layer (type)                 Output Shape              Param #   \n",
            "=================================================================\n",
            "conv2d (Conv2D)              (None, 252, 252, 32)      2432      \n",
            "_________________________________________________________________\n",
            "max_pooling2d (MaxPooling2D) (None, 84, 84, 32)        0         \n",
            "_________________________________________________________________\n",
            "conv2d_1 (Conv2D)            (None, 82, 82, 32)        9248      \n",
            "_________________________________________________________________\n",
            "max_pooling2d_1 (MaxPooling2 (None, 41, 41, 32)        0         \n",
            "_________________________________________________________________\n",
            "conv2d_2 (Conv2D)            (None, 39, 39, 64)        18496     \n",
            "_________________________________________________________________\n",
            "max_pooling2d_2 (MaxPooling2 (None, 19, 19, 64)        0         \n",
            "_________________________________________________________________\n",
            "flatten (Flatten)            (None, 23104)             0         \n",
            "_________________________________________________________________\n",
            "dense (Dense)                (None, 512)               11829760  \n",
            "_________________________________________________________________\n",
            "dropout (Dropout)            (None, 512)               0         \n",
            "_________________________________________________________________\n",
            "dense_1 (Dense)              (None, 128)               65664     \n",
            "_________________________________________________________________\n",
            "dense_2 (Dense)              (None, 2)                 258       \n",
            "=================================================================\n",
            "Total params: 11,925,858\n",
            "Trainable params: 11,925,858\n",
            "Non-trainable params: 0\n",
            "_________________________________________________________________\n"
          ]
        }
      ]
    },
    {
      "cell_type": "code",
      "metadata": {
        "id": "uD72AB6hXMbX",
        "colab": {
          "base_uri": "https://localhost:8080/"
        },
        "outputId": "8d53abbd-3a80-4f62-c90e-ba61dbfb1f37"
      },
      "source": [
        "# Model building to get trained with parameters.\n",
        "import tensorflow\n",
        "\n",
        "opt=tensorflow.keras.optimizers.Adam(learning_rate=0.001)\n",
        "model.compile(optimizer=opt, loss='categorical_crossentropy', metrics=['accuracy'])\n",
        "\n",
        "r = model.fit_generator(\n",
        "  training_set,\n",
        "  validation_data=test_set,\n",
        "  epochs=50,\n",
        "  steps_per_epoch=len(training_set),\n",
        "  validation_steps = len(test_set),\n",
        ")"
      ],
      "execution_count": 9,
      "outputs": [
        {
          "output_type": "stream",
          "name": "stderr",
          "text": [
            "/usr/local/lib/python3.7/dist-packages/keras/engine/training.py:1972: UserWarning: `Model.fit_generator` is deprecated and will be removed in a future version. Please use `Model.fit`, which supports generators.\n",
            "  warnings.warn('`Model.fit_generator` is deprecated and '\n"
          ]
        },
        {
          "output_type": "stream",
          "name": "stdout",
          "text": [
            "Epoch 1/50\n",
            "184/184 [==============================] - 2539s 14s/step - loss: 0.4587 - accuracy: 0.8199 - val_loss: 3.4780 - val_accuracy: 0.5816\n",
            "Epoch 2/50\n",
            "184/184 [==============================] - 94s 513ms/step - loss: 0.2251 - accuracy: 0.9185 - val_loss: 7.3351 - val_accuracy: 0.5918\n",
            "Epoch 3/50\n",
            "184/184 [==============================] - 96s 521ms/step - loss: 0.1749 - accuracy: 0.9392 - val_loss: 8.8934 - val_accuracy: 0.6020\n",
            "Epoch 4/50\n",
            "184/184 [==============================] - 94s 513ms/step - loss: 0.1505 - accuracy: 0.9511 - val_loss: 11.7779 - val_accuracy: 0.5918\n",
            "Epoch 5/50\n",
            "184/184 [==============================] - 95s 516ms/step - loss: 0.1309 - accuracy: 0.9547 - val_loss: 10.5349 - val_accuracy: 0.5714\n",
            "Epoch 6/50\n",
            "184/184 [==============================] - 95s 518ms/step - loss: 0.1021 - accuracy: 0.9656 - val_loss: 14.6189 - val_accuracy: 0.5510\n",
            "Epoch 7/50\n",
            "184/184 [==============================] - 95s 514ms/step - loss: 0.1048 - accuracy: 0.9654 - val_loss: 14.8598 - val_accuracy: 0.5510\n",
            "Epoch 8/50\n",
            "184/184 [==============================] - 95s 518ms/step - loss: 0.0761 - accuracy: 0.9751 - val_loss: 23.8498 - val_accuracy: 0.5510\n",
            "Epoch 9/50\n",
            "184/184 [==============================] - 97s 528ms/step - loss: 0.0840 - accuracy: 0.9717 - val_loss: 16.5442 - val_accuracy: 0.5714\n",
            "Epoch 10/50\n",
            "184/184 [==============================] - 95s 515ms/step - loss: 0.0624 - accuracy: 0.9787 - val_loss: 22.6990 - val_accuracy: 0.5000\n",
            "Epoch 11/50\n",
            "184/184 [==============================] - 95s 518ms/step - loss: 0.0676 - accuracy: 0.9775 - val_loss: 21.8619 - val_accuracy: 0.5306\n",
            "Epoch 12/50\n",
            "184/184 [==============================] - 96s 520ms/step - loss: 0.0621 - accuracy: 0.9806 - val_loss: 21.3876 - val_accuracy: 0.5000\n",
            "Epoch 13/50\n",
            "184/184 [==============================] - 95s 517ms/step - loss: 0.0675 - accuracy: 0.9808 - val_loss: 21.5244 - val_accuracy: 0.5000\n",
            "Epoch 14/50\n",
            "184/184 [==============================] - 94s 513ms/step - loss: 0.0531 - accuracy: 0.9843 - val_loss: 23.5381 - val_accuracy: 0.5204\n",
            "Epoch 15/50\n",
            "184/184 [==============================] - 95s 516ms/step - loss: 0.0593 - accuracy: 0.9809 - val_loss: 24.1837 - val_accuracy: 0.5000\n",
            "Epoch 16/50\n",
            "184/184 [==============================] - 96s 519ms/step - loss: 0.0324 - accuracy: 0.9872 - val_loss: 28.9489 - val_accuracy: 0.5000\n",
            "Epoch 17/50\n",
            "184/184 [==============================] - 95s 517ms/step - loss: 0.0455 - accuracy: 0.9849 - val_loss: 21.0683 - val_accuracy: 0.5000\n",
            "Epoch 18/50\n",
            "184/184 [==============================] - 95s 515ms/step - loss: 0.0354 - accuracy: 0.9884 - val_loss: 35.3444 - val_accuracy: 0.5102\n",
            "Epoch 19/50\n",
            "184/184 [==============================] - 95s 515ms/step - loss: 0.0614 - accuracy: 0.9806 - val_loss: 28.2858 - val_accuracy: 0.4898\n",
            "Epoch 20/50\n",
            "184/184 [==============================] - 96s 519ms/step - loss: 0.0394 - accuracy: 0.9862 - val_loss: 33.4037 - val_accuracy: 0.5000\n",
            "Epoch 21/50\n",
            "184/184 [==============================] - 97s 525ms/step - loss: 0.0311 - accuracy: 0.9894 - val_loss: 32.5641 - val_accuracy: 0.5102\n",
            "Epoch 22/50\n",
            "184/184 [==============================] - 96s 520ms/step - loss: 0.0334 - accuracy: 0.9883 - val_loss: 28.6700 - val_accuracy: 0.5102\n",
            "Epoch 23/50\n",
            "184/184 [==============================] - 94s 512ms/step - loss: 0.0310 - accuracy: 0.9906 - val_loss: 32.7366 - val_accuracy: 0.5000\n",
            "Epoch 24/50\n",
            "184/184 [==============================] - 94s 511ms/step - loss: 0.0274 - accuracy: 0.9903 - val_loss: 35.0160 - val_accuracy: 0.5204\n",
            "Epoch 25/50\n",
            "184/184 [==============================] - 95s 516ms/step - loss: 0.0354 - accuracy: 0.9886 - val_loss: 33.3950 - val_accuracy: 0.5000\n",
            "Epoch 26/50\n",
            "184/184 [==============================] - 96s 522ms/step - loss: 0.0222 - accuracy: 0.9925 - val_loss: 41.4094 - val_accuracy: 0.5000\n",
            "Epoch 27/50\n",
            "184/184 [==============================] - 96s 524ms/step - loss: 0.0284 - accuracy: 0.9910 - val_loss: 39.8010 - val_accuracy: 0.5000\n",
            "Epoch 28/50\n",
            "184/184 [==============================] - 94s 512ms/step - loss: 0.0363 - accuracy: 0.9886 - val_loss: 30.9712 - val_accuracy: 0.4898\n",
            "Epoch 29/50\n",
            "184/184 [==============================] - 94s 510ms/step - loss: 0.0233 - accuracy: 0.9922 - val_loss: 33.2474 - val_accuracy: 0.5000\n",
            "Epoch 30/50\n",
            "184/184 [==============================] - 95s 516ms/step - loss: 0.0406 - accuracy: 0.9872 - val_loss: 33.3103 - val_accuracy: 0.5102\n",
            "Epoch 31/50\n",
            "184/184 [==============================] - 95s 516ms/step - loss: 0.0227 - accuracy: 0.9930 - val_loss: 47.0939 - val_accuracy: 0.5000\n",
            "Epoch 32/50\n",
            "184/184 [==============================] - 97s 524ms/step - loss: 0.0415 - accuracy: 0.9864 - val_loss: 34.1138 - val_accuracy: 0.5000\n",
            "Epoch 33/50\n",
            "184/184 [==============================] - 95s 514ms/step - loss: 0.0141 - accuracy: 0.9956 - val_loss: 44.1247 - val_accuracy: 0.5000\n",
            "Epoch 34/50\n",
            "184/184 [==============================] - 95s 515ms/step - loss: 0.0320 - accuracy: 0.9908 - val_loss: 25.4399 - val_accuracy: 0.5000\n",
            "Epoch 35/50\n",
            "184/184 [==============================] - 95s 515ms/step - loss: 0.0185 - accuracy: 0.9939 - val_loss: 41.3485 - val_accuracy: 0.5000\n",
            "Epoch 36/50\n",
            "184/184 [==============================] - 95s 516ms/step - loss: 0.0198 - accuracy: 0.9940 - val_loss: 36.4798 - val_accuracy: 0.5102\n",
            "Epoch 37/50\n",
            "184/184 [==============================] - 95s 516ms/step - loss: 0.0150 - accuracy: 0.9956 - val_loss: 50.4266 - val_accuracy: 0.5102\n",
            "Epoch 38/50\n",
            "184/184 [==============================] - 96s 523ms/step - loss: 0.0161 - accuracy: 0.9947 - val_loss: 49.2414 - val_accuracy: 0.5000\n",
            "Epoch 39/50\n",
            "184/184 [==============================] - 94s 512ms/step - loss: 0.0144 - accuracy: 0.9951 - val_loss: 47.1912 - val_accuracy: 0.5102\n",
            "Epoch 40/50\n",
            "184/184 [==============================] - 95s 516ms/step - loss: 0.0158 - accuracy: 0.9956 - val_loss: 41.1837 - val_accuracy: 0.5000\n",
            "Epoch 41/50\n",
            "184/184 [==============================] - 95s 514ms/step - loss: 0.0110 - accuracy: 0.9959 - val_loss: 50.8352 - val_accuracy: 0.5000\n",
            "Epoch 42/50\n",
            "184/184 [==============================] - 95s 518ms/step - loss: 0.0128 - accuracy: 0.9957 - val_loss: 51.6571 - val_accuracy: 0.5000\n",
            "Epoch 43/50\n",
            "184/184 [==============================] - 94s 510ms/step - loss: 0.0199 - accuracy: 0.9939 - val_loss: 46.7502 - val_accuracy: 0.5102\n",
            "Epoch 44/50\n",
            "184/184 [==============================] - 94s 512ms/step - loss: 0.0105 - accuracy: 0.9963 - val_loss: 57.3288 - val_accuracy: 0.4898\n",
            "Epoch 45/50\n",
            "184/184 [==============================] - 94s 511ms/step - loss: 0.0229 - accuracy: 0.9934 - val_loss: 44.0882 - val_accuracy: 0.5000\n",
            "Epoch 46/50\n",
            "184/184 [==============================] - 94s 512ms/step - loss: 0.0168 - accuracy: 0.9954 - val_loss: 52.7412 - val_accuracy: 0.5204\n",
            "Epoch 47/50\n",
            "184/184 [==============================] - 94s 512ms/step - loss: 0.0242 - accuracy: 0.9942 - val_loss: 48.3027 - val_accuracy: 0.5000\n",
            "Epoch 48/50\n",
            "184/184 [==============================] - 94s 511ms/step - loss: 0.0159 - accuracy: 0.9952 - val_loss: 50.4563 - val_accuracy: 0.5000\n",
            "Epoch 49/50\n",
            "184/184 [==============================] - 94s 509ms/step - loss: 0.0157 - accuracy: 0.9951 - val_loss: 53.9537 - val_accuracy: 0.5000\n",
            "Epoch 50/50\n",
            "184/184 [==============================] - 94s 513ms/step - loss: 0.0197 - accuracy: 0.9956 - val_loss: 33.0277 - val_accuracy: 0.5102\n"
          ]
        }
      ]
    },
    {
      "cell_type": "code",
      "metadata": {
        "id": "HhnDLDYjm2mN",
        "colab": {
          "base_uri": "https://localhost:8080/",
          "height": 534
        },
        "outputId": "69d6bfe1-6f74-4b08-cb8a-8066253e608b"
      },
      "source": [
        "# plot the loss\n",
        "plt.plot(r.history['loss'], label='train loss')\n",
        "plt.plot(r.history['val_loss'], label='val loss')\n",
        "plt.legend()\n",
        "plt.show()\n",
        "plt.savefig('LossVal_loss')\n",
        "\n",
        "# plot the accuracy\n",
        "plt.plot(r.history['accuracy'], label='train acc')\n",
        "plt.plot(r.history['val_accuracy'], label='val acc')\n",
        "plt.legend()\n",
        "plt.show()\n",
        "plt.savefig('AccVal_acc')"
      ],
      "execution_count": 10,
      "outputs": [
        {
          "output_type": "display_data",
          "data": {
            "image/png": "[encoded data removed]",
            "text/plain": [
              "<Figure size 432x288 with 1 Axes>"
            ]
          },
          "metadata": {
            "needs_background": "light"
          }
        },
        {
          "output_type": "display_data",
          "data": {
            "image/png": "[encoded data removed]",
            "text/plain": [
              "<Figure size 432x288 with 1 Axes>"
            ]
          },
          "metadata": {
            "needs_background": "light"
          }
        },
        {
          "output_type": "display_data",
          "data": {
            "text/plain": [
              "<Figure size 432x288 with 0 Axes>"
            ]
          },
          "metadata": {}
        }
      ]
    },
    {
      "cell_type": "code",
      "metadata": {
        "id": "-W6a7MPGIiSw"
      },
      "source": [
        "model.save(\"trained_model_1.h5\")"
      ],
      "execution_count": 11,
      "outputs": []
    },
    {
      "cell_type": "code",
      "metadata": {
        "id": "X_r83FZ_F042"
      },
      "source": [
        "import cv2\n",
        "from keras.models import load_model\n",
        "from PIL import Image\n",
        "\n",
        "trained_model = load_model(\"trained_model_1.h5\")"
      ],
      "execution_count": 12,
      "outputs": []
    },
    {
      "cell_type": "code",
      "metadata": {
        "id": "McLECm4ysUzu",
        "colab": {
          "base_uri": "https://localhost:8080/"
        },
        "outputId": "2f531ab7-0178-4c2f-e7cd-9666aa02ce75"
      },
      "source": [
        "#sample output format\n",
        "\n",
        "import random\n",
        "import json\n",
        "# from utils.io import write_json\n",
        "\n",
        "def test_model(i):\n",
        "  img_pth = test + '/test/{}'.format(i)\n",
        "  print(\"Testing =>\", img_pth)\n",
        "  \n",
        "  img = cv2.imread(img_pth)\n",
        "  img = cv2.resize(img, (256,256))\n",
        "\n",
        "  newimg = np.asarray(img)\n",
        "  pixels = newimg.astype('float32')\n",
        "  pixels /= 255.0\n",
        "  # print(pixels.shape)\n",
        "\n",
        "  pixels = np.expand_dims(pixels, axis=0)\n",
        "  ans = model.predict(pixels)\n",
        "  ans = np.argmax(ans,axis=1)[0]\n",
        "\n",
        "  return ans\n",
        "\n",
        "def write_json(filename, result):\n",
        "    with open(filename, 'w') as outfile:\n",
        "        json.dump(result, outfile)\n",
        "\n",
        "def read_json(filename):\n",
        "    with open(filename, 'r') as outfile:\n",
        "        data =  json.load(outfile)\n",
        "    return data\n",
        "\n",
        "def generate_sample_file(filename):\n",
        "    res = {}\n",
        "    for i in range(1,99):\n",
        "        test_set = str(i) + '.jpg'\n",
        "        # print(test_set)\n",
        "        label = test_model(test_set)\n",
        "        res[test_set] = int(label)\n",
        "\n",
        "    write_json(filename, res)\n",
        "\n",
        "if __name__ == '__main__':\n",
        "    generate_sample_file('./ToTheTop_final_result.json')\n"
      ],
      "execution_count": 14,
      "outputs": [
        {
          "output_type": "stream",
          "name": "stdout",
          "text": [
            "Testing => /content/drive/MyDrive/testzip/test/1.jpg\n",
            "Testing => /content/drive/MyDrive/testzip/test/2.jpg\n",
            "Testing => /content/drive/MyDrive/testzip/test/3.jpg\n",
            "Testing => /content/drive/MyDrive/testzip/test/4.jpg\n",
            "Testing => /content/drive/MyDrive/testzip/test/5.jpg\n",
            "Testing => /content/drive/MyDrive/testzip/test/6.jpg\n",
            "Testing => /content/drive/MyDrive/testzip/test/7.jpg\n",
            "Testing => /content/drive/MyDrive/testzip/test/8.jpg\n",
            "Testing => /content/drive/MyDrive/testzip/test/9.jpg\n",
            "Testing => /content/drive/MyDrive/testzip/test/10.jpg\n",
            "Testing => /content/drive/MyDrive/testzip/test/11.jpg\n",
            "Testing => /content/drive/MyDrive/testzip/test/12.jpg\n",
            "Testing => /content/drive/MyDrive/testzip/test/13.jpg\n",
            "Testing => /content/drive/MyDrive/testzip/test/14.jpg\n",
            "Testing => /content/drive/MyDrive/testzip/test/15.jpg\n",
            "Testing => /content/drive/MyDrive/testzip/test/16.jpg\n",
            "Testing => /content/drive/MyDrive/testzip/test/17.jpg\n",
            "Testing => /content/drive/MyDrive/testzip/test/18.jpg\n",
            "Testing => /content/drive/MyDrive/testzip/test/19.jpg\n",
            "Testing => /content/drive/MyDrive/testzip/test/20.jpg\n",
            "Testing => /content/drive/MyDrive/testzip/test/21.jpg\n",
            "Testing => /content/drive/MyDrive/testzip/test/22.jpg\n",
            "Testing => /content/drive/MyDrive/testzip/test/23.jpg\n",
            "Testing => /content/drive/MyDrive/testzip/test/24.jpg\n",
            "Testing => /content/drive/MyDrive/testzip/test/25.jpg\n",
            "Testing => /content/drive/MyDrive/testzip/test/26.jpg\n",
            "Testing => /content/drive/MyDrive/testzip/test/27.jpg\n",
            "Testing => /content/drive/MyDrive/testzip/test/28.jpg\n",
            "Testing => /content/drive/MyDrive/testzip/test/29.jpg\n",
            "Testing => /content/drive/MyDrive/testzip/test/30.jpg\n",
            "Testing => /content/drive/MyDrive/testzip/test/31.jpg\n",
            "Testing => /content/drive/MyDrive/testzip/test/32.jpg\n",
            "Testing => /content/drive/MyDrive/testzip/test/33.jpg\n",
            "Testing => /content/drive/MyDrive/testzip/test/34.jpg\n",
            "Testing => /content/drive/MyDrive/testzip/test/35.jpg\n",
            "Testing => /content/drive/MyDrive/testzip/test/36.jpg\n",
            "Testing => /content/drive/MyDrive/testzip/test/37.jpg\n",
            "Testing => /content/drive/MyDrive/testzip/test/38.jpg\n",
            "Testing => /content/drive/MyDrive/testzip/test/39.jpg\n",
            "Testing => /content/drive/MyDrive/testzip/test/40.jpg\n",
            "Testing => /content/drive/MyDrive/testzip/test/41.jpg\n",
            "Testing => /content/drive/MyDrive/testzip/test/42.jpg\n",
            "Testing => /content/drive/MyDrive/testzip/test/43.jpg\n",
            "Testing => /content/drive/MyDrive/testzip/test/44.jpg\n",
            "Testing => /content/drive/MyDrive/testzip/test/45.jpg\n",
            "Testing => /content/drive/MyDrive/testzip/test/46.jpg\n",
            "Testing => /content/drive/MyDrive/testzip/test/47.jpg\n",
            "Testing => /content/drive/MyDrive/testzip/test/48.jpg\n",
            "Testing => /content/drive/MyDrive/testzip/test/49.jpg\n",
            "Testing => /content/drive/MyDrive/testzip/test/50.jpg\n",
            "Testing => /content/drive/MyDrive/testzip/test/51.jpg\n",
            "Testing => /content/drive/MyDrive/testzip/test/52.jpg\n",
            "Testing => /content/drive/MyDrive/testzip/test/53.jpg\n",
            "Testing => /content/drive/MyDrive/testzip/test/54.jpg\n",
            "Testing => /content/drive/MyDrive/testzip/test/55.jpg\n",
            "Testing => /content/drive/MyDrive/testzip/test/56.jpg\n",
            "Testing => /content/drive/MyDrive/testzip/test/57.jpg\n",
            "Testing => /content/drive/MyDrive/testzip/test/58.jpg\n",
            "Testing => /content/drive/MyDrive/testzip/test/59.jpg\n",
            "Testing => /content/drive/MyDrive/testzip/test/60.jpg\n",
            "Testing => /content/drive/MyDrive/testzip/test/61.jpg\n",
            "Testing => /content/drive/MyDrive/testzip/test/62.jpg\n",
            "Testing => /content/drive/MyDrive/testzip/test/63.jpg\n",
            "Testing => /content/drive/MyDrive/testzip/test/64.jpg\n",
            "Testing => /content/drive/MyDrive/testzip/test/65.jpg\n",
            "Testing => /content/drive/MyDrive/testzip/test/66.jpg\n",
            "Testing => /content/drive/MyDrive/testzip/test/67.jpg\n",
            "Testing => /content/drive/MyDrive/testzip/test/68.jpg\n",
            "Testing => /content/drive/MyDrive/testzip/test/69.jpg\n",
            "Testing => /content/drive/MyDrive/testzip/test/70.jpg\n",
            "Testing => /content/drive/MyDrive/testzip/test/71.jpg\n",
            "Testing => /content/drive/MyDrive/testzip/test/72.jpg\n",
            "Testing => /content/drive/MyDrive/testzip/test/73.jpg\n",
            "Testing => /content/drive/MyDrive/testzip/test/74.jpg\n",
            "Testing => /content/drive/MyDrive/testzip/test/75.jpg\n",
            "Testing => /content/drive/MyDrive/testzip/test/76.jpg\n",
            "Testing => /content/drive/MyDrive/testzip/test/77.jpg\n",
            "Testing => /content/drive/MyDrive/testzip/test/78.jpg\n",
            "Testing => /content/drive/MyDrive/testzip/test/79.jpg\n",
            "Testing => /content/drive/MyDrive/testzip/test/80.jpg\n",
            "Testing => /content/drive/MyDrive/testzip/test/81.jpg\n",
            "Testing => /content/drive/MyDrive/testzip/test/82.jpg\n",
            "Testing => /content/drive/MyDrive/testzip/test/83.jpg\n",
            "Testing => /content/drive/MyDrive/testzip/test/84.jpg\n",
            "Testing => /content/drive/MyDrive/testzip/test/85.jpg\n",
            "Testing => /content/drive/MyDrive/testzip/test/86.jpg\n",
            "Testing => /content/drive/MyDrive/testzip/test/87.jpg\n",
            "Testing => /content/drive/MyDrive/testzip/test/88.jpg\n",
            "Testing => /content/drive/MyDrive/testzip/test/89.jpg\n",
            "Testing => /content/drive/MyDrive/testzip/test/90.jpg\n",
            "Testing => /content/drive/MyDrive/testzip/test/91.jpg\n",
            "Testing => /content/drive/MyDrive/testzip/test/92.jpg\n",
            "Testing => /content/drive/MyDrive/testzip/test/93.jpg\n",
            "Testing => /content/drive/MyDrive/testzip/test/94.jpg\n",
            "Testing => /content/drive/MyDrive/testzip/test/95.jpg\n",
            "Testing => /content/drive/MyDrive/testzip/test/96.jpg\n",
            "Testing => /content/drive/MyDrive/testzip/test/97.jpg\n",
            "Testing => /content/drive/MyDrive/testzip/test/98.jpg\n"
          ]
        }
      ]
    }
  ]
}